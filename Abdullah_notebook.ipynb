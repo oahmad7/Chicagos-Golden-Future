{
 "cells": [
  {
   "cell_type": "markdown",
   "metadata": {},
   "source": [
    "| Name            | NetID   | GitHub Handle  |\n",
    "|-----------------|---------|----------------|\n",
    "| Osama Ahmad     | oahmad7 | oahmad7        |\n",
    "| Maxwell Dausch  | mdausc2 | mdausch        |\n",
    "| Taj Atassi      | tatass2 | tajatassi      |\n",
    "| Mohamed Saeed   | msaeed7 | MohamedSaeed99 |\n",
    "| Abdullah Kidwai | akidwa2 | akidwhy        |"
   ]
  },
  {
   "cell_type": "markdown",
   "metadata": {},
   "source": [
    "## Visualizations\n",
    "\n",
    "### Count of crimes throughout years\n",
    "This next visualization features the types of permits that were granted in chicago, and which ones are more preval;ent in the city. Porch constuction is one of the lowest types of permits, which is what should be expected for the city, as. amajority of people live in apartment style buildings, rather than a house that has a porch. We are seeing lots of renovations, which could be a good sign for later on in our research progress.\n",
    "\n",
    "### Figure 2: Permit Types in Chicago\n",
    "\n",
    "This visualization shows the different types of permits that were granted in Chicago. The most common type of permit is for electric wiring. The permit that was least prevalent was the one for porch construction. It is important to keep in mind that many people do not even apply for permits when doing renovations, so those renovations are not accounted for. For residential properties, homeowners hire private companies that do not require a permit from the City before starting their work. Also, the reason porch permits are very low is because firstly, there are a lot of apartment buildings here in Chicago. Secondly, porch renovations are very easy to do. Many times, they do not require any electrical work and there are few risks of damaging any sewer, gas, or water lines. Lastly, porch renovations do not take a long time and can be completed in less than a weeks’ time.\n",
    "\n",
    "### Figure 3: Heatmap\n",
    "\n",
    "This heatmap represents the crime rates and government owned land throughout the Chicagoland area. Crime rates and government owned lands north of North Ave are very low. What is very interesting is that for the rest of the places where crime rates are either moderate to high, the number of government owned lands are very high. Another peculiar observation is the North Loop area. Crime rates are relatively high here, however the number of government owned lands are very low. This is a very expensive and rich area, so theft and burglary is very high here.\n",
    "\n",
    "### Figure 6: Analysis of permit types in 60633 Zip Code\n",
    "This zip code covers a southern area of Chicago as well as part of the city of Burnham. It has a relatively small population size of 13000. There is not a lot of development happening. However, recently the Ford motor company recently went under a billion-dollar expansion for their assembly plant in that area. The 64.2% of electric wiring permit and 24% of easy permit process reflects that billion-dollar expansion."
   ]
  },
  {
   "cell_type": "code",
   "execution_count": null,
   "metadata": {},
   "outputs": [],
   "source": []
  }
 ],
 "metadata": {
  "kernelspec": {
   "display_name": "Python 3",
   "language": "python",
   "name": "python3"
  },
  "language_info": {
   "codemirror_mode": {
    "name": "ipython",
    "version": 3
   },
   "file_extension": ".py",
   "mimetype": "text/x-python",
   "name": "python",
   "nbconvert_exporter": "python",
   "pygments_lexer": "ipython3",
   "version": "3.7.1"
  }
 },
 "nbformat": 4,
 "nbformat_minor": 2
}
