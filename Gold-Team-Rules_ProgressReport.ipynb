{
 "cells": [
  {
   "cell_type": "markdown",
   "metadata": {},
   "source": [
    "# CS418 Gold Team Rules: A Look Into Chicago\n",
    "\n",
    "UIC CS 418, Spring 2019\n",
    "\n",
    "\n",
    "| Name            | NetID   | GitHub Handle  |\n",
    "|-----------------|---------|----------------|\n",
    "| Osama Ahmad     | oahmad7 | oahmad7        |\n",
    "| Maxwell Dausch  | mdausc2 | mdausch        |\n",
    "| Taj Atassi      | tatass2 | tajatassi      |\n",
    "| Mohamed Saeed   | msaeed7 | MohamedSaeed99 |\n",
    "| Abdullah Kidwai | akidwa2 | akidwhy        |\n",
    "\n",
    "\n",
    "## Problem \n",
    "Our intention is to look for correlation between Chicago’s historical crime data, as well as permit data. We feel that this can aid in investment opportunities when combined with Chicago’s government owned land (Where plots of land are sold for $1)  One might be able to make a reasonable purchase, that can have a higher return on investment in the future.  \n",
    "\n",
    "\n",
    "Our initial ideas are based around wondering if an area has a decreasing crime rate, while having an increasing “investment” area with rehabs, and new buildings, the area might be good for a future investment.\n",
    "On the other hand, an increase in crime, might not be so good for investment, which we would then stay away from looking into properties in the area, and such investments might not turn a profit.\n",
    "Some factors that might play a role in the increase/decrease of crime rate is the status of the area(poor/rich neighborhood).\n",
    "\n",
    "\n",
    "This project will help people invest in the right area and know what to\n",
    "expect from that area.\n",
    "\n",
    "\n",
    "## Data\n",
    "\n",
    "We are currently using a mix of Chicago data sets, each offering a different look into the city’s past and present.\n",
    "\n",
    "A quick look into the data sets can be found below\n",
    "\n",
    "### Crime Data\n",
    "This will allow us to see how crime has changed over time, and the most common areas for crime [Download Data Set](https://data.cityofchicago.org/Public-Safety/Crimes-2001-to-present/ijzp-q8t2)\n",
    "\n",
    " - 6,805,668 rows\n",
    " - 2001 - Present \n",
    " - Location\n",
    " - Crime type\n",
    " - Dates of crime\n",
    " \n",
    " \n",
    "### Permit Data\n",
    "This will allow us to see how much certain areas are being invested in, and the types of renovations.\n",
    "[Download Data Set](https://data.cityofchicago.org/widgets/ydr8-5enu)\n",
    "\n",
    " - 564,828 rows\n",
    " - 2006 - Present \n",
    " - Location\n",
    " - Renovation type (New, Demolitions, Rehabs) \n",
    " - Dates of permit application\n",
    " \n",
    " \n",
    "### Land Data\n",
    "This will allow us to see which Government owned land is for sale, while also being cheap.\n",
    "\n",
    "[Download Data Set](https://data.cityofchicago.org/Community-Economic-Development/City-Owned-Land-Inventory/aksk-kvfp/data)\n",
    "\n",
    " - 15,932 rows\n",
    " - Location\n",
    " - Zoning Information\n",
    " - Square Footage\n",
    "\n",
    "## What we hope to achieve \n",
    "To start off, we first would want to plot each of the data sets onto a map, that way we can compare them side by side, and check for inconsistencies, or correlations. Our next step would be to plot them all together, and adjust the time frames to see how the data has evolved.  \n",
    "\n",
    "We envision that as a final product, the project will be dynamic, allowing us to see a full overview of the data, or by selecting a timeframe. Our goal is to make it visually easier for people to see which areas are available to buy and how that area is with crime. We also would like to predict which areas is going to be infested with crimes to prevent any bad investment choices."
   ]
  },
  {
   "cell_type": "markdown",
   "metadata": {},
   "source": [
    "## Changes to our original project proposal"
   ]
  },
  {
   "cell_type": "markdown",
   "metadata": {},
   "source": [
    "As far as the scope of our project is concerned, we initially considered using real estate listings from scraping sites like Zillow or Realtor to obtain a more accurate representation of the general housing data. Due to time constants, we have decided to forgo this as it would make the data cleaning portion of our project too time consuming. Instead we are focusing our efforts on other aspect of the project, like the exploratory data analysis as well as the machine learning algorithm. \n",
    "\n",
    "Additionally, we have decided to use Flask Google Maps over Open Street Maps, Leaflet.js, and Matplotlib's Basemap Toolkit. Flask Google Maps align with our goals better and offer a more visually pleasant experience than the other options. "
   ]
  },
  {
   "cell_type": "markdown",
   "metadata": {},
   "source": [
    "## Obtaining the data¶\n",
    "In order to use this notebook, you must download the data yourself, as there are limits on Github for data size.\n",
    "Be sure to have the above data sets downloaded to the project folder as TSVs named:\n",
    " - Building_Permits.tsv\n",
    " - City-Owned_Land_Inventory.tsv\n",
    " - Crimes_-2001to_present.tsv\n",
    " \n",
    " \n",
    "From here you will then create a database for each of the data sets\n"
   ]
  },
  {
   "cell_type": "markdown",
   "metadata": {},
   "source": [
    "## Set Up Project Dependecies¶\n",
    "You will first need to install the MySQL Connector\n",
    "Install it with pip  \n",
    "```pip install pymysql```  \n",
    "```pip install flask```  \n",
    "```pip install flask_googlemaps```  \n"
   ]
  },
  {
   "cell_type": "code",
   "execution_count": 1,
   "metadata": {},
   "outputs": [],
   "source": [
    "import pandas as pd\n",
    "import numpy as np\n",
    "import seaborn as sns\n",
    "import matplotlib.pyplot as plt\n",
    "import pymysql\n",
    "import sqlite3 as sql\n",
    "import pandas as pd\n",
    "import os\n",
    "import os.path\n",
    "import traceback\n",
    "import matplotlib.pyplot as plt\n",
    "import sklearn.model_selection as sk\n",
    "from sklearn.neural_network import MLPClassifier\n",
    "from sklearn.neighbors import KNeighborsClassifier\n",
    "from sklearn.model_selection import cross_val_score\n",
    "\n",
    "from flask import Flask, render_template\n",
    "from flask_googlemaps import GoogleMaps\n",
    "from flask_googlemaps import Map"
   ]
  },
  {
   "cell_type": "markdown",
   "metadata": {},
   "source": [
    "## Build the databases\n",
    "This assumes all the tsv files has beem created"
   ]
  },
  {
   "cell_type": "code",
   "execution_count": 3,
   "metadata": {},
   "outputs": [],
   "source": [
    "# Functions needed to process a csv into a sqlite database\n",
    "# This helps us get past the low memory errors that pandas gives us since our data is so large\n",
    "def process(columns,columnString, valueString, chunk,cur):\n",
    "    cur.executemany(\"INSERT INTO data VALUES (\" + valueString +\")\", chunk.filter(items=columns).values.tolist())\n",
    "\n",
    "def toDB(dbName, fileName,columns):\n",
    "\n",
    "    #check if file exists\n",
    "    PATH='./' + dbName\n",
    "\n",
    "    if os.path.isfile(PATH) and os.access(PATH, os.R_OK):\n",
    "        print (\"Database \" + dbName + \" already exists. Stopping.\")\n",
    "        return\n",
    "    \n",
    "    #open the connection to our db\n",
    "    conn = sql.connect(dbName)\n",
    "    cur = conn.cursor()\n",
    "    \n",
    "    #Get header\n",
    "    numfields = pd.read_csv(fileName, delimiter='\\t',nrows=1,skipinitialspace=1,encoding=\"utf-8-sig\")\n",
    "\n",
    "    #Build dynamic string for database query\n",
    "    columnString = \"\"\n",
    "    valueString = \"\"\n",
    "    for column in columns:\n",
    "        fixedC = column.replace(\" \",\"_\").replace(\".\",\"\")\n",
    "        columnString += fixedC + \", \"\n",
    "        valueString += \"?, \"\n",
    "    columnString = columnString[0:-2].strip()\n",
    "    valueString = valueString[0:-2].strip()\n",
    "\n",
    "    #Create table\n",
    "    try:\n",
    "        cur.execute(\"Create table data (\" + columnString + \")\")\n",
    "    except Exception: \n",
    "        traceback.print_exc()\n",
    "        print (\"Database \" + dbName + \" already exists. Stopping.\")\n",
    "        return\n",
    "    \n",
    "\n",
    "    print(\"Processing File: \" + fileName)\n",
    "    chunksize = 10 ** 4\n",
    "    for chunk in pd.read_csv(fileName, chunksize=chunksize, delimiter='\\t',skipinitialspace=1,encoding=\"utf-8-sig\",low_memory=False):\n",
    "        process(columns,columnString,valueString,chunk,cur)\n",
    "\n",
    "    #close the db connection\n",
    "    print(\"Done processing, now writing to database: \" + dbName)\n",
    "    conn.commit()\n",
    "    cur.close()\n",
    "    conn.close()\n",
    "\n"
   ]
  },
  {
   "cell_type": "code",
   "execution_count": 4,
   "metadata": {},
   "outputs": [
    {
     "name": "stdout",
     "output_type": "stream",
     "text": [
      "Database Building_Permits.db already exists. Stopping.\n",
      "Database City-Owned_Land_Inventory.db already exists. Stopping.\n",
      "Database Crimes_-_2001_to_present.db already exists. Stopping.\n"
     ]
    }
   ],
   "source": [
    "# Now we build the databases, while doing a bit of data cleaning in the process.\n",
    "# First we need to list out what column names we want to keep\n",
    "# This will build a table around those columns and insert the corresponding values into the database\n",
    "\n",
    "#handle building permit data\n",
    "dbColumns = ['ID','PERMIT_TYPE','ISSUE_DATE','TOTAL_FEE','WORK_DESCRIPTION','LATITUDE','LONGITUDE','LOCATION']\n",
    "toDB(\"Building_Permits.db\", \"Building_Permits.tsv\",dbColumns)\n",
    "\n",
    "#handle city land data\n",
    "dbColumns = ['ID','Property Status','Date of Acquisition','Date of Disposition','Sq. Ft.','Ward','Community Area Number','Community Area Name','Zip Code','X Coordinate','Y Coordinate','Latitude','Longitude','Location']\n",
    "toDB(\"City-Owned_Land_Inventory.db\", \"City-Owned_Land_Inventory.tsv\",dbColumns)\n",
    "\n",
    "#handle crimes data (This will take a while)\n",
    "dbColumns = ['ID', 'Case Number', 'Date', 'Block', 'IUCR', 'Primary Type', 'Description','Location Description', 'Arrest', 'Domestic', 'Beat', 'District', 'Ward','Community Area', 'FBI Code', 'X Coordinate', 'Y Coordinate', 'Year', 'Updated On','Latitude', 'Longitude', 'Location']\n",
    "\n",
    "toDB(\"Crimes_-_2001_to_present.db\", \"Crimes_-_2001_to_present.tsv\",dbColumns)"
   ]
  },
  {
   "cell_type": "markdown",
   "metadata": {},
   "source": [
    "# Exploratory Data Analysis"
   ]
  },
  {
   "cell_type": "code",
   "execution_count": 8,
   "metadata": {},
   "outputs": [
    {
     "name": "stdout",
     "output_type": "stream",
     "text": [
      "[2001, 2002, 2003, 2004, 2005, 2006, 2007, 2008, 2009, 2010, 2011, 2012, 2013, 2014, 2015, 2016, 2017, 2018, 2019]\n"
     ]
    }
   ],
   "source": [
    "def getYears(db):\n",
    "    conn = sql.connect(db)\n",
    "    cur = conn.cursor()\n",
    "\n",
    "    #select all data for chicago\n",
    "    cur.execute(\"SELECT DISTINCT YEAR FROM data ORDER BY Year ASC\")\n",
    "\n",
    "    #Get all values\n",
    "    crimeCount = cur.fetchall()\n",
    "\n",
    "    #Cleanup db connection\n",
    "    cur.close()\n",
    "    conn.close()\n",
    "    \n",
    "    years = []\n",
    "    \n",
    "    for c in crimeCount:\n",
    "        years.append(c[0])\n",
    "    \n",
    "    return years\n",
    "    \n",
    "print(getYears('Crimes_-_2001_to_present.db'))"
   ]
  },
  {
   "cell_type": "markdown",
   "metadata": {},
   "source": [
    "## Analysis\n",
    "- Structure: The data is not very rectangular.\n",
    "    - Some entries from City-owned_land_inventory are blank or just contain a PIN and nothing else\n",
    "    - Positive: No Nested Data, so it becomes a little easier to manipulate\n",
    "- Granularity: The data is very fine\n",
    "    - They get very specific in terms of what buildings are available\n",
    "    - Gives many details about the crime comitted such as Primary and secondary descriptions, location, and more\n",
    "- Scope: The Data is mostly complete\n",
    "    - Some entries are left blank in City-owned_land_inventory\n",
    "    - Everything else is complete.\n",
    "    - It has everything we need (Land, permits, and crimes) and not much extra\n",
    "- Before Cleaning, the Data has different date ranges for each database, but has been truncated after cleaning\n",
    "    - Crime Data: 2001-2019 -> 2006-2019\n",
    "    - Permit Data: 2006-2019 -> 2006-2019\n",
    "    - Land Data: Unknown\n",
    "- The data has been captured and retrieved directly from the City of Chicago\n",
    "\n",
    "### Other observations\n",
    "- Observation: the fetchall and fetchone functions return a list of tuples even if you are retreiving one item, so we need to extract the the proper items and place them into lists\n",
    "- After cleaning the data, the year of crimes spans 2006-Present.\n"
   ]
  },
  {
   "cell_type": "markdown",
   "metadata": {},
   "source": [
    "## Visualizations\n",
    "\n",
    "Below is a graph of Chicagos crimes through the years, starting from 2006 to the present. \n",
    "Overall we have seen a decrease in crime, though there is still quite a lot of crime. We will need to take this into account for our later research, and look for decreases of crime in individual areas, rather than the whole city."
   ]
  },
  {
   "cell_type": "code",
   "execution_count": 5,
   "metadata": {},
   "outputs": [
    {
     "data": {
      "image/png": "[encoded data removed]",
      "text/plain": [
       "<Figure size 432x288 with 1 Axes>"
      ]
     },
     "metadata": {
      "needs_background": "light"
     },
     "output_type": "display_data"
    }
   ],
   "source": [
    "#Get connection to crimes database\n",
    "conn = sql.connect(\"Crimes_-_2001_to_present.db\")\n",
    "cur = conn.cursor()\n",
    "\n",
    "#select all data for chicago\n",
    "cur.execute(\"SELECT COUNT(*) as count FROM data WHERE Year >= 2006 GROUP BY Year ORDER BY Year ASC\")\n",
    "\n",
    "#Get all values\n",
    "crimeCount = cur.fetchall()\n",
    "\n",
    "#Cleanup db connection\n",
    "cur.close()\n",
    "conn.close()\n",
    "\n",
    "#Build visualization\n",
    "years = ['2006', '2007', '2008', '2009', '2010', '2011', '2012', '2013', '2014', '2015', '2016', '2017', '2018', '2019']\n",
    "countList = [count[0] for count in crimeCount]\n",
    "plt.bar(years, countList)\n",
    "plt.xlabel('Year')\n",
    "plt.ylabel('Count')\n",
    "plt.title('Count of crimes throughtout years')\n",
    "plt.show()"
   ]
  },
  {
   "cell_type": "markdown",
   "metadata": {},
   "source": [
    "This next visualization features the types of permits that were granted in chicago, and which ones are more preval;ent in the city. Porch constuction is one of the lowest types of permits, which is what should be expected for the city, as. amajority of people live in apartment style buildings, rather than a house that has a porch. We are seeing lots of renovations, which could be a good sign for later on in our research progress."
   ]
  },
  {
   "cell_type": "code",
   "execution_count": 6,
   "metadata": {},
   "outputs": [
    {
     "data": {
      "image/png": "[encoded data removed]",
      "text/plain": [
       "<Figure size 432x288 with 1 Axes>"
      ]
     },
     "metadata": {
      "needs_background": "light"
     },
     "output_type": "display_data"
    }
   ],
   "source": [
    "#Get connection to building permits database\n",
    "conn = sql.connect(\"Building_Permits.db\")\n",
    "cur = conn.cursor()\n",
    "\n",
    "#Get distinct counts for types of permits\n",
    "cur.execute(\"SELECT PERMIT_TYPE,COUNT(*) as count FROM data GROUP BY PERMIT_TYPE ORDER BY count DESC\")\n",
    "\n",
    "#Get all values\n",
    "permitTypes = cur.fetchall()\n",
    "\n",
    "#Cleanup db connection\n",
    "cur.close()\n",
    "conn.close()\n",
    "\n",
    "permits = []\n",
    "permitsCount = []\n",
    "\n",
    "for permit in permitTypes:\n",
    "    permits.append(permit[0].replace(\"PERMIT - \",\"\"))\n",
    "    permitsCount.append(permit[1])\n",
    "\n",
    "# #Build visualization\n",
    "ax = plt.gca()\n",
    "plt.figure(1, [20, 8])\n",
    "plt.setp(ax.get_xticklabels(), fontsize=10, rotation='vertical')\n",
    "plt.bar(permits,permitsCount)\n",
    "plt.xlabel('Type')\n",
    "plt.ylabel('Count')\n",
    "plt.title('Permit Types In Chicago')\n",
    "\n",
    "# Set the x-axis limit\n",
    "# Change of fontsize and angle of xticklabels\n",
    "\n",
    "plt.show()"
   ]
  },
  {
   "cell_type": "code",
   "execution_count": null,
   "metadata": {},
   "outputs": [],
   "source": []
  },
  {
   "cell_type": "code",
   "execution_count": null,
   "metadata": {},
   "outputs": [],
   "source": []
  },
  {
   "cell_type": "code",
   "execution_count": null,
   "metadata": {},
   "outputs": [],
   "source": []
  },
  {
   "cell_type": "code",
   "execution_count": null,
   "metadata": {},
   "outputs": [],
   "source": []
  },
  {
   "cell_type": "markdown",
   "metadata": {},
   "source": [
    "## Machine Learning\n",
    "\n",
    "Below is our attempt at machine learning. We tried to use a neural net to classify the crimes data, by using a crime's lattitude and longitude.\n",
    "\n",
    "After trying a mixture of settings, we found that the neural net should be built with two hidden layers, with two nodes each. This still did not work out well as our 10 fold cross validation error ended up being really high at .78\n",
    "\n",
    "We feel that this is not the best we can do, Seeing this, it only tells us we should look into other styles of building machine learning models to see if better results could be found."
   ]
  },
  {
   "cell_type": "code",
   "execution_count": 25,
   "metadata": {},
   "outputs": [],
   "source": [
    "#Get connection to building permits database\n",
    "conn = sql.connect(\"Crimes_-_2001_to_present.db\")\n",
    "cur = conn.cursor()\n",
    "\n",
    "cur.execute(\"SELECT Latitude, Longitude FROM data WHERE Year >= 2006 AND Latitude IS NOT NULL AND Longitude IS NOT NULL AND Primary_Type IS NOT NULL\")    \n",
    "crimeLocation = cur.fetchall()\n",
    "\n",
    "#Cleanup db connection\n",
    "cur.close()\n",
    "conn.close()\n",
    "\n",
    "#Get connection to building permits database\n",
    "conn = sql.connect(\"Crimes_-_2001_to_present.db\")\n",
    "cur = conn.cursor()\n",
    "\n",
    "cur.execute(\"SELECT Primary_Type FROM data WHERE Year >= 2006 AND Latitude IS NOT NULL AND Longitude IS NOT NULL AND Primary_Type IS NOT NULL\")\n",
    "crimeType = cur.fetchall()\n",
    "\n",
    "#Cleanup db connection\n",
    "cur.close()\n",
    "conn.close()\n"
   ]
  },
  {
   "cell_type": "code",
   "execution_count": 26,
   "metadata": {},
   "outputs": [
    {
     "name": "stdout",
     "output_type": "stream",
     "text": [
      "Splitting Data\n"
     ]
    }
   ],
   "source": [
    "print(\"Splitting Data\")\n",
    "X_train, X_test, Y_train, Y_test = sk.train_test_split(crimeLocation, crimeType, test_size=0.8, train_size=0.2)"
   ]
  },
  {
   "cell_type": "code",
   "execution_count": 27,
   "metadata": {},
   "outputs": [
    {
     "name": "stdout",
     "output_type": "stream",
     "text": [
      "['NARCOTICS' 'CRIMINAL TRESPASS' 'NARCOTICS' ... 'NARCOTICS' 'THEFT'\n",
      " 'BATTERY']\n"
     ]
    }
   ],
   "source": [
    "xTrain = []\n",
    "yTrain = []\n",
    "\n",
    "for X in X_train:\n",
    "    xTrain.append([X[0],X[1]])\n",
    "\n",
    "for Y in Y_train:\n",
    "    yTrain.append(Y[0])\n",
    "\n",
    "a = np.array(yTrain)\n",
    "\n",
    "print(a)\n"
   ]
  },
  {
   "cell_type": "code",
   "execution_count": 28,
   "metadata": {},
   "outputs": [
    {
     "name": "stderr",
     "output_type": "stream",
     "text": [
      "/Users/mdausch/anaconda3/lib/python3.7/site-packages/sklearn/model_selection/_split.py:652: Warning: The least populated class in y has only 2 members, which is too few. The minimum number of members in any class cannot be less than n_splits=10.\n",
      "  % (min_groups, self.n_splits)), Warning)\n"
     ]
    },
    {
     "name": "stdout",
     "output_type": "stream",
     "text": [
      " 10 fold cross validation: 0.7851956639059086\n"
     ]
    }
   ],
   "source": [
    "# print('lets begin')\n",
    "\n",
    "\n",
    "# layer = [1,2,5]\n",
    "# node = [2,5,10,50]\n",
    "# minCVError = 1\n",
    "# minNodes = 0\n",
    "# minLayers = 0\n",
    "# for layers in layer:\n",
    "#     for nodes in node:\n",
    "#         layers2 =()\n",
    "#         for k in range(0,layers):\n",
    "#                 layers2 += nodes,\n",
    "\n",
    "#         nn = MLPClassifier(hidden_layer_sizes=layers2, max_iter=1000, activation='relu', solver='adam', epsilon=0.001, alpha=0)\n",
    "#         nnModel = nn.fit(X_train, a)\n",
    "#         cv2 = 1 - sk.cross_val_score(nnModel, X_train, a, cv=10, scoring='accuracy').mean()\n",
    "#         print(cv2)\n",
    "#         if(minCVError > cv2):\n",
    "#             print(\"Found better model with lower CV Error\" )\n",
    "#             minCVError = cv2\n",
    "#             minNodes = nodes\n",
    "#             minLayers = layers\n",
    "        \n",
    "# print(\"Min CV Error is \", minCVError, ' with ', minNodes, ' nodes and ', minLayers, ' layers')\n",
    "\n",
    "#Build model with optimal settings\n",
    "nn = MLPClassifier(hidden_layer_sizes=[2,2], max_iter=1000, activation='relu', solver='adam', epsilon=0.001, alpha=0)\n",
    "nnModel = nn.fit(X_train, a)\n",
    "\n",
    "#Results of 10 fold cross validation \n",
    "print(\" 10 fold cross validation: \" + str(1 - sk.cross_val_score(nnModel, X_train, a, cv=10, scoring='accuracy').mean()))"
   ]
  },
  {
   "cell_type": "markdown",
   "metadata": {},
   "source": [
    "# Reflection\n",
    "\n",
    "#### What is the hardest part of the project that you've encountered so far?\n",
    "\n",
    "The hardest part of the project so far has been cleaning the data, specifically with the Crime Dataset. At a whopping 6.8 million rows, the Crime Dataset takes an incredibly long time to clean The extremely long time it took for us to group the crime data hindered our ability to continue to work on later portions of the project, because they were all reliant on the data cleaning to be done first.\n",
    "\n",
    "#### What are your initial insights?\n",
    "\n",
    "The biggest insight we have made is that the number of crimes over the course of our data set's time period has been gradually going down. It's currently unclear if those crime rates are in areas where investment is possible, or if the lower crime rates will effect the cost of land.\n",
    "\n",
    "#### Are there any concrete results you can show at this point? If not, why not?\n",
    "\n",
    "There are some concrete results we can show currently. Those results are evident in our visualization as well as our machine learning technique. \n",
    "\n",
    "#### Going forward, what are the biggest problems you're facing?\n",
    "\n",
    "We are unsure what Machine Learning algorithm to apply to our data sets in the future. This problem is exacerbated by the fact that we ware unclear on what hypothesis is necessary to test for our data set. Most of our data is already incredibly detailed, and so we are struggling to find a place where using Machine Learning to predict and make some conclusion is necessary.\n",
    "\n",
    "#### Do you think you are on track with your project? If not, what parts do you need to dedicate more time to?\n",
    "\n",
    "We are on track to complete the project on time, keeping the necessary standard of quality in mind. \n",
    "\n",
    "#### Given your initial exploration of the data, is it worth proceeding with your project, why? If not, how are you going to change your project and why do you think it's better than your current results?\n",
    "\n",
    "We intend to continue working on our current project. We have already made some substantial insights into our project and intend on uncovering all that we can within this topic and present our results in a manner that is pleasant for the user.\n"
   ]
  },
  {
   "cell_type": "markdown",
   "metadata": {},
   "source": [
    "# Next Steps\n",
    "\n",
    "#### Here is how we are breaking down the work for the next few weeks to ensure we complete the assignment in a timely manner:\n",
    "\n",
    "#### Week of 4/15:\n",
    "- Submit the cleaned data and the scripts needed for cleaning\n",
    "- Complete a machine learning technique and explanation\n",
    "- Complete a distinct visualization of our data.\n",
    "\n",
    "#### Week of 4/22:\n",
    "- Complete a machine learning technique and explanation\n",
    "- Complete a distinct visualization of our data.\n",
    "- Complete preparing for the presentation on 4/29 or 5/1\n",
    "\n",
    "#### Week of 4/29:\n",
    "- Complete a distinct visualization of our data\n",
    "- Fully analyze the results from our data"
   ]
  }
 ],
 "metadata": {
  "kernelspec": {
   "display_name": "Python 3",
   "language": "python",
   "name": "python3"
  },
  "language_info": {
   "codemirror_mode": {
    "name": "ipython",
    "version": 3
   },
   "file_extension": ".py",
   "mimetype": "text/x-python",
   "name": "python",
   "nbconvert_exporter": "python",
   "pygments_lexer": "ipython3",
   "version": "3.7.1"
  }
 },
 "nbformat": 4,
 "nbformat_minor": 2
}
