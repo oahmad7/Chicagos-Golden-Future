{
 "cells": [
  {
   "cell_type": "markdown",
   "metadata": {},
   "source": [
    "# Exploratory Data Analysis\n"
   ]
  },
  {
   "cell_type": "markdown",
   "metadata": {},
   "source": [
    "Many code was deleted, but the data analysis was done before. this is the only one that remained in the final notebook.\n",
    "\n",
    "    print(getYears('Crimes_-_2001_to_present.db'))\n",
    "    "
   ]
  },
  {
   "cell_type": "markdown",
   "metadata": {},
   "source": [
    "## Analysis\n",
    "- Structure: The data is not very rectangular.\n",
    "    - Some entries from City-owned_land_inventory are blank or just contain a PIN and nothing else\n",
    "    - Positive: No Nested Data, so it becomes a little easier to manipulate\n",
    "- Granularity: The data is very fine\n",
    "    - They get very specific in terms of what buildings are available\n",
    "    - Gives many details about the crime comitted such as Primary and secondary descriptions, location, and more\n",
    "- Scope: The Data is mostly complete\n",
    "    - Some entries are left blank in City-owned_land_inventory\n",
    "    - Everything else is complete\n",
    "    - It has everything we need (Land, permits, and crimes) and not much extra\n",
    "- Before Cleaning, the Data has different date ranges for each database, but has been truncated after cleaning\n",
    "    - Crime Data: 2001-2019 -> 2006-2019\n",
    "    - Permit Data: 2006-2019 -> 2006-2019\n",
    "    - Land Data: Unknown\n",
    "- The data has been captured and retrieved directly from the City of Chicago\n",
    "\n",
    "\n",
    "### Other Observations\n",
    "- Observation: the fetchall and fetchone functions return a list of tuples even if you are retreiving one item, so we need to extract the the proper items and place them into lists\n",
    "- After cleaning the data, the year of crimes spans 2006-Present.\n"
   ]
  },
  {
   "cell_type": "markdown",
   "metadata": {},
   "source": [
    "# Figure Analysis"
   ]
  },
  {
   "cell_type": "markdown",
   "metadata": {},
   "source": [
    "### Figure 1: Count of crimes throughout years\n",
    "\n",
    "This visualization shows the count of crimes added throughout the years. Our goal was to track the trends of crime per year. We chose a bar graph because it allows us to separate each year and see the trend as the big picture. The number of crimes per year has decreased since 2006. Because 2019 isn’t over yet, the number appears very low. Crime in Chicago has been on a steady decline since the records were tracked. It’s important to keep in mind that not all crimes are reported. Gang violence is something that is unfortunately common in the South Side of Chicago, so some crimes committed in the South Side might not be documented throughout the years. However, cameras were installed in order to prevent and record these crimes."
   ]
  },
  {
   "cell_type": "markdown",
   "metadata": {},
   "source": [
    "### Figure 4: Analysis of permit types in 60607 Zip Code¶\n",
    "This visualization shows the different types of permits in the Zip Code 60607. The donut chart is used to compare each group of permits with one another so one can see the most common occurrences. The Zip Code 60607 covers the West Loop of Chicago going as far south as 16th Street and as far north as Kinzie Street running from Ashland Ave to Wells St and includes UIC’s east campus. The most common type of permit is for electric wiring and the least common was reinstating a revoked permit. Because of the constant construction going on in the West Loop, many permits are needed for Electrical Wiring and Renovation/Alteration, especially with the recent expansion of UIC’s east campus and the many new places opening around the area.\n",
    "\n"
   ]
  },
  {
   "cell_type": "markdown",
   "metadata": {},
   "source": [
    "### Figure 5: Analysis of permit types in 60631 Zip Code\n",
    "This visualization shows the different types of permits in the Zip Code 60631. The donut chart is used to compare each group of permits with one another so one can see the most common occurrences. The Zip Code 60631 covers the Norwood Park and Edison Park, just east of O’Hare International Airport. The most common type of permit is for electric wiring and the least common was scaffolding. A major intersection in the area is the intersection of Devon Ave, Harlem Ave, and Northwest Hwy. Devon Ave is known to have many small South Asian shops and restaurants and is located in a majority-residential area further north. Many houses and shops are purchased and remodeled and new places have electrical wiring installed.\n",
    "\n"
   ]
  },
  {
   "cell_type": "code",
   "execution_count": null,
   "metadata": {},
   "outputs": [],
   "source": []
  }
 ],
 "metadata": {
  "kernelspec": {
   "display_name": "Python 3",
   "language": "python",
   "name": "python3"
  },
  "language_info": {
   "codemirror_mode": {
    "name": "ipython",
    "version": 3
   },
   "file_extension": ".py",
   "mimetype": "text/x-python",
   "name": "python",
   "nbconvert_exporter": "python",
   "pygments_lexer": "ipython3",
   "version": "3.7.1"
  }
 },
 "nbformat": 4,
 "nbformat_minor": 2
}
